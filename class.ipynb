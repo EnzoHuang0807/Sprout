{
 "cells": [
  {
   "cell_type": "markdown",
   "metadata": {},
   "source": [
    "### Class"
   ]
  },
  {
   "cell_type": "markdown",
   "metadata": {},
   "source": [
    "#### Syntax"
   ]
  },
  {
   "cell_type": "code",
   "execution_count": 9,
   "metadata": {},
   "outputs": [],
   "source": [
    "class Food():    \t# 宣告 要加括號\n",
    "    pass \t\t\t# class 的內部細節\n",
    " \n",
    "bread = Food() \t\t#建立物件"
   ]
  },
  {
   "cell_type": "markdown",
   "metadata": {},
   "source": [
    "#### Attribute"
   ]
  },
  {
   "cell_type": "code",
   "execution_count": 10,
   "metadata": {},
   "outputs": [],
   "source": [
    "class Food():    \t# 宣告 要加括號\n",
    "    pass \t\t\t# class 的內部細節\n",
    " \n",
    "bread = Food() \t\t#建立物件\n",
    "bread.price = 40\t \t#新增屬性\n"
   ]
  },
  {
   "cell_type": "code",
   "execution_count": 11,
   "metadata": {},
   "outputs": [
    {
     "name": "stdout",
     "output_type": "stream",
     "text": [
      "40\n"
     ]
    }
   ],
   "source": [
    "class Food():    \n",
    "\tdef __init__(self):  # 要加一個位置參數(self)，代表新建立的物件        \n",
    "\t\tself.price = 40  # 透過初始化函式(__init__)設定屬性 \n",
    "\n",
    "bread = Food()\n",
    "print(bread.price) #取值方法"
   ]
  },
  {
   "cell_type": "code",
   "execution_count": 12,
   "metadata": {},
   "outputs": [
    {
     "name": "stdout",
     "output_type": "stream",
     "text": [
      "<__main__.Food object at 0x000001E6DFDEBB50>\n",
      "<class '__main__.Food'>\n",
      "2091110021968\n",
      "2091110021968\n"
     ]
    }
   ],
   "source": [
    "class Food():    \n",
    "\tdef __init__(s): # 來看看第一個傳入的東西到底是啥        \n",
    "\t\tprint(s)        \n",
    "\t\tprint(type(s))        \n",
    "\t\tprint(id(s))        \n",
    "\n",
    "bread = Food()\n",
    "print(id(bread))\n"
   ]
  },
  {
   "cell_type": "code",
   "execution_count": 13,
   "metadata": {},
   "outputs": [
    {
     "name": "stdout",
     "output_type": "stream",
     "text": [
      "40\n"
     ]
    }
   ],
   "source": [
    "class Food():    \n",
    "\tdef __init__(self, price):          \n",
    "\t\tself.price = price  # 透過初始化函式設定屬性 \n",
    "\n",
    "bread = Food(40)\n",
    "print(bread.price) #取值方法"
   ]
  },
  {
   "cell_type": "code",
   "execution_count": 14,
   "metadata": {},
   "outputs": [
    {
     "name": "stdout",
     "output_type": "stream",
     "text": [
      "M 50\n"
     ]
    }
   ],
   "source": [
    "class Food():    \n",
    "\tdef __init__(self, price, size, rating):     \n",
    "\t\tself.price = price        \n",
    "\t\tself.size = size        \n",
    "\t\tself.rating = rating \n",
    "\n",
    "cupcake = Food(50,\"M\",100)\n",
    "print(cupcake.size, cupcake.price)"
   ]
  },
  {
   "cell_type": "code",
   "execution_count": 15,
   "metadata": {},
   "outputs": [
    {
     "name": "stdout",
     "output_type": "stream",
     "text": [
      "100\n",
      "50\n"
     ]
    }
   ],
   "source": [
    "class Food():    \n",
    "\tdef __init__(self, price, size, rating):     \n",
    "\t\tself.price = price        \n",
    "\t\tself.size = size        \n",
    "\t\tself.rating = rating \n",
    "\n",
    "cupcake = Food(50,\"M\",100)\n",
    "print(cupcake.rating)\n",
    "\n",
    "cupcake.rating = 50\n",
    "print(cupcake.rating)"
   ]
  },
  {
   "cell_type": "code",
   "execution_count": 16,
   "metadata": {},
   "outputs": [
    {
     "ename": "AttributeError",
     "evalue": "'Food' object has no attribute 'price'",
     "output_type": "error",
     "traceback": [
      "\u001b[1;31m---------------------------------------------------------------------------\u001b[0m",
      "\u001b[1;31mAttributeError\u001b[0m                            Traceback (most recent call last)",
      "Cell \u001b[1;32mIn[16], line 10\u001b[0m\n\u001b[0;32m      7\u001b[0m \u001b[38;5;28;01mdel\u001b[39;00m cupcake\t\t\u001b[38;5;66;03m# 刪除物件\u001b[39;00m\n\u001b[0;32m      9\u001b[0m \u001b[38;5;28;01mdel\u001b[39;00m bread\u001b[38;5;241m.\u001b[39mprice\n\u001b[1;32m---> 10\u001b[0m \u001b[38;5;28mprint\u001b[39m(\u001b[43mbread\u001b[49m\u001b[38;5;241;43m.\u001b[39;49m\u001b[43mprice\u001b[49m)  \t\u001b[38;5;66;03m# 會壞掉\u001b[39;00m\n",
      "\u001b[1;31mAttributeError\u001b[0m: 'Food' object has no attribute 'price'"
     ]
    }
   ],
   "source": [
    "class Food():    \n",
    "\tdef __init__(self,price):    # 加入屬性的方法        \n",
    "\t\tself.price = price \n",
    "\n",
    "bread = Food(40)\n",
    "cupcake = Food(50)\n",
    "del cupcake\t\t# 刪除物件\n",
    "\n",
    "del bread.price\n",
    "print(bread.price)  \t# 會壞掉\n"
   ]
  },
  {
   "cell_type": "markdown",
   "metadata": {},
   "source": [
    "#### Class Attribute"
   ]
  },
  {
   "cell_type": "code",
   "execution_count": null,
   "metadata": {},
   "outputs": [
    {
     "name": "stdout",
     "output_type": "stream",
     "text": [
      "1\n",
      "2\n"
     ]
    }
   ],
   "source": [
    "class Food():    \n",
    "\tsold = 0 \t\t# class attribute\n",
    "\tdef __init__(self, price):          \n",
    "\t\tself.price = price\n",
    "\t\tFood.sold += 1\n",
    "\n",
    "bread = Food(40)\n",
    "print(Food.sold) # 1\n",
    "\n",
    "cupcake = Food(50)\n",
    "print(Food.sold) # 2"
   ]
  },
  {
   "cell_type": "code",
   "execution_count": null,
   "metadata": {},
   "outputs": [
    {
     "name": "stdout",
     "output_type": "stream",
     "text": [
      "2\n",
      "6\n",
      "2\n",
      "2\n",
      "6\n",
      "3\n",
      "3\n"
     ]
    }
   ],
   "source": [
    "print(bread.sold) \t\t#2\n",
    "bread.sold += 4\n",
    "\n",
    "print(bread.sold)   \t#6\n",
    "print(cupcake.sold) \t#2\n",
    "print(Food.sold)\t\t#2\n",
    "\n",
    "donut = Food(30)\n",
    "print(bread.sold)\t\t#6\n",
    "print(cupcake.sold)\t\t#3\n",
    "print(Food.sold)\t\t#3"
   ]
  },
  {
   "cell_type": "markdown",
   "metadata": {},
   "source": [
    "#### Method"
   ]
  },
  {
   "cell_type": "code",
   "execution_count": null,
   "metadata": {},
   "outputs": [
    {
     "name": "stdout",
     "output_type": "stream",
     "text": [
      "expensive\n"
     ]
    }
   ],
   "source": [
    "class Food():    \n",
    "\tdef __init__(self, price):        \n",
    "\t\tself.price = price    \n",
    "         \n",
    "\tdef check_price(self):\n",
    "\t\tif self.price > 50:\n",
    "\t\t\tprint(\"expensive\") \n",
    "      \n",
    "croissant = Food(100)\n",
    "croissant.check_price()"
   ]
  },
  {
   "cell_type": "markdown",
   "metadata": {},
   "source": [
    "#### Instance Method"
   ]
  },
  {
   "cell_type": "code",
   "execution_count": null,
   "metadata": {},
   "outputs": [
    {
     "name": "stdout",
     "output_type": "stream",
     "text": [
      "400\n"
     ]
    }
   ],
   "source": [
    "class Food():    \n",
    "\tdef __init__(self, price):        \n",
    "\t\tself.price = price     \n",
    "        \n",
    "\tdef modify_price(self, factor):\n",
    "\t\tself.price = factor * self.price   \n",
    "   \n",
    "croissant = Food(100)\n",
    "croissant.modify_price(4)\n",
    "print(croissant.price)"
   ]
  },
  {
   "cell_type": "code",
   "execution_count": null,
   "metadata": {},
   "outputs": [
    {
     "name": "stdout",
     "output_type": "stream",
     "text": [
      "True\n"
     ]
    }
   ],
   "source": [
    "class Food():    \n",
    "\tdef __init__(self, price, rating):        \n",
    "\t\tself.price = price\n",
    "\t\tself.rating = rating     \n",
    "        \n",
    "\tdef compare(self, other):\n",
    "\t\treturn self.rating > other.rating   \n",
    "   \n",
    "croissant = Food(100, 80)\n",
    "bread = Food(40, 70)\n",
    "print(croissant.compare(bread))\n"
   ]
  },
  {
   "cell_type": "markdown",
   "metadata": {},
   "source": [
    "#### Class Method"
   ]
  },
  {
   "cell_type": "code",
   "execution_count": null,
   "metadata": {},
   "outputs": [
    {
     "name": "stdout",
     "output_type": "stream",
     "text": [
      "Number of food sold : 0\n",
      "None\n",
      "Number of food sold : 1\n",
      "None\n"
     ]
    }
   ],
   "source": [
    "class Food(): \n",
    "\tsold = 0   \n",
    "\tdef __init__(self, price):        \n",
    "\t\tself.price = price\n",
    "\t\tFood.sold += 1   \n",
    "\t@classmethod\n",
    "\tdef foodSold(cls):\n",
    "\t\t print(f\"Number of food sold : {cls.sold}\") \n",
    "  \n",
    "Food.foodSold()\t#0\n",
    "croissant = Food(100)\n",
    "Food.foodSold()\t#1"
   ]
  },
  {
   "cell_type": "markdown",
   "metadata": {},
   "source": [
    "#### Static Method"
   ]
  },
  {
   "cell_type": "code",
   "execution_count": null,
   "metadata": {},
   "outputs": [
    {
     "name": "stdout",
     "output_type": "stream",
     "text": [
      "三年三班手工薯條超級好吃\n",
      "三年三班手工薯條超級好吃\n"
     ]
    }
   ],
   "source": [
    "class Food(): \n",
    "\tsold = 0   \n",
    "\tdef __init__(self, price):        \n",
    "\t\tself.price = price\n",
    "\t\tFood.sold += 1\n",
    "\n",
    "\t@staticmethod\n",
    "\tdef promote():\n",
    "\t\tprint(\"三年三班手工薯條超級好吃\") \n",
    "\n",
    "fries = Food(40)\n",
    "fries.promote() \t# 透過 object 呼叫\n",
    "Food.promote()\t# 透過 class 呼叫\n"
   ]
  },
  {
   "cell_type": "markdown",
   "metadata": {},
   "source": [
    "### OOP"
   ]
  },
  {
   "cell_type": "markdown",
   "metadata": {},
   "source": [
    "#### Encapsulation"
   ]
  },
  {
   "cell_type": "code",
   "execution_count": null,
   "metadata": {},
   "outputs": [
    {
     "name": "stdout",
     "output_type": "stream",
     "text": [
      "10000\n"
     ]
    }
   ],
   "source": [
    "class Profile():\n",
    "\tdef __init__(self, name, assets):\n",
    "\t\tself.name = name\n",
    "\t\tself.__assets = assets # 你的財產\n",
    "\tdef getAssets(self):\n",
    "\t\treturn self.__assets \n",
    "\n",
    "member = Profile(\"Enzo\", 10000)\n",
    "print(member.getAssets())\t\t# 10000\n",
    "# print(member.__assets)\t\t# AttributeError\n"
   ]
  },
  {
   "cell_type": "code",
   "execution_count": null,
   "metadata": {},
   "outputs": [
    {
     "name": "stdout",
     "output_type": "stream",
     "text": [
      "13000\n"
     ]
    }
   ],
   "source": [
    "class Profile():\n",
    "\tdef __init__(self, name, assets):\n",
    "\t\tself.name = name\n",
    "\t\tself.__assets = assets # 你的財產\n",
    "\tdef getAssets(self):\n",
    "\t\treturn self.__assets\n",
    "\tdef deposit(self, num):\n",
    "\t\tself.__assets += num\n",
    "\n",
    "member = Profile(\"Enzo\", 10000)\n",
    "member.deposit(3000)\n",
    "print(member.getAssets())\t\t# 13000\n",
    "# member.__assets += 1000000\t\t# AttributeError\n"
   ]
  },
  {
   "cell_type": "markdown",
   "metadata": {},
   "source": [
    "#### Inheritance"
   ]
  },
  {
   "cell_type": "code",
   "execution_count": null,
   "metadata": {},
   "outputs": [],
   "source": [
    "class Person():\n",
    "\tdef __init__(self, name, age):\n",
    "\t\tself.name = name\n",
    "\t\tself.age = age\n",
    "\tdef printInfo(self):\n",
    "\t\tprint(self.name, self.age)"
   ]
  },
  {
   "cell_type": "code",
   "execution_count": null,
   "metadata": {},
   "outputs": [
    {
     "name": "stdout",
     "output_type": "stream",
     "text": [
      "Alice 18\n",
      "True\n"
     ]
    }
   ],
   "source": [
    "class Student(Person):\t\n",
    "\tdef __init__(self, name, age, score):\n",
    "\t\tsuper().__init__(name, age)\n",
    "\t\tself.score = score\n",
    "\n",
    "\tdef isQualified(self):\n",
    "\t\treturn self.score > 60\n",
    "\n",
    "student1 = Student(\"Alice\", 18, 70)\n",
    "student1.printInfo()\n",
    "print(student1.isQualified())\n"
   ]
  },
  {
   "cell_type": "markdown",
   "metadata": {},
   "source": [
    "#### Polymorphism"
   ]
  },
  {
   "cell_type": "code",
   "execution_count": null,
   "metadata": {},
   "outputs": [],
   "source": [
    "class Animal():\n",
    "\tdef __init__(self):\n",
    "\t\tpass\n",
    "\tdef sound(self):\n",
    "\t\treturn \"Ahhhh\"\n",
    "\n",
    "class Cow(Animal):\n",
    "\tdef __init__(self):\n",
    "\t\tsuper().__init__()\n",
    "\tdef sound(self):\n",
    "\t\treturn \"MooMoo\"\n",
    "\n",
    "class Bird(Animal):\n",
    "\tdef __init__(self):\n",
    "\t\tsuper().__init__()\n",
    "\tdef sound(self):\n",
    "\t\treturn \"ChuChu\"\n",
    "\n",
    "def make_sound(obj):\n",
    "\tprint(obj.sound())"
   ]
  },
  {
   "cell_type": "code",
   "execution_count": null,
   "metadata": {},
   "outputs": [
    {
     "name": "stdout",
     "output_type": "stream",
     "text": [
      "MooMoo\n",
      "ChuChu\n"
     ]
    }
   ],
   "source": [
    "newCow = Cow()\n",
    "newBird = Bird()\n",
    "\n",
    "make_sound(newCow)\n",
    "make_sound(newBird)"
   ]
  },
  {
   "cell_type": "code",
   "execution_count": null,
   "metadata": {},
   "outputs": [
    {
     "name": "stdout",
     "output_type": "stream",
     "text": [
      "Ahhhh\n"
     ]
    }
   ],
   "source": [
    "class Cat(Animal):\n",
    "\tdef __init__(self):\n",
    "\t\tsuper().__init__()\n",
    "newCat = Cat()\n",
    "make_sound(newCat)"
   ]
  }
 ],
 "metadata": {
  "kernelspec": {
   "display_name": "Python 3",
   "language": "python",
   "name": "python3"
  },
  "language_info": {
   "codemirror_mode": {
    "name": "ipython",
    "version": 3
   },
   "file_extension": ".py",
   "mimetype": "text/x-python",
   "name": "python",
   "nbconvert_exporter": "python",
   "pygments_lexer": "ipython3",
   "version": "3.10.11"
  }
 },
 "nbformat": 4,
 "nbformat_minor": 2
}
