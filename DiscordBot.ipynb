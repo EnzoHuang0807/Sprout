{
 "cells": [
  {
   "cell_type": "markdown",
   "metadata": {},
   "source": [
    "### Dectorator "
   ]
  },
  {
   "cell_type": "code",
   "execution_count": null,
   "metadata": {},
   "outputs": [],
   "source": [
    "def logged(func): \n",
    "    def with_logging(*args): \n",
    "        L = list(args)\n",
    "        return func(sum(L))\n",
    "    return with_logging\n",
    " \n",
    "def f(x):\n",
    "    print(x**2)\n",
    "\n",
    "result = logged(f)(1,2,3,4)"
   ]
  },
  {
   "cell_type": "code",
   "execution_count": null,
   "metadata": {},
   "outputs": [],
   "source": [
    "def logged(func): \n",
    "    def with_logging(*args): \n",
    "        L = list(args)\n",
    "        return func(sum(L))\n",
    "    return with_logging\n",
    " \n",
    "@logged\n",
    "def f(x):\n",
    "    print(x**2)\n",
    "\n",
    "result = f(1,2,3,4)"
   ]
  },
  {
   "cell_type": "markdown",
   "metadata": {},
   "source": [
    "### Asyncio "
   ]
  },
  {
   "cell_type": "code",
   "execution_count": null,
   "metadata": {},
   "outputs": [],
   "source": [
    "import time\n",
    "\n",
    "def count():\n",
    "    print(\"One\")\n",
    "    time.sleep(1)\n",
    "    print(\"Two\")\n",
    "\n",
    "def task():\n",
    "    for i in range(3):\n",
    "        count()\n",
    "\n",
    "start = time.time()\n",
    "task()\n",
    "print(f\"executed in {time.time() - start : 0.2f} seconds.\")"
   ]
  },
  {
   "cell_type": "code",
   "execution_count": null,
   "metadata": {},
   "outputs": [],
   "source": [
    "## DON'T Test it on Jupyter Notebook !!!!\n",
    "\n",
    "import asyncio\n",
    "import time\n",
    "\n",
    "async def count():\n",
    "    print(\"One\")\n",
    "    await asyncio.sleep(1)\n",
    "    print(\"Two\")\n",
    "\n",
    "async def task():\n",
    "    await asyncio.gather(count(), count(), count())\n",
    "\n",
    "start = time.time()\n",
    "asyncio.run(task())\n",
    "print(f\"executed in {time.time() - start:0.2f} seconds.\")"
   ]
  },
  {
   "cell_type": "markdown",
   "metadata": {},
   "source": [
    "### Web Crawling "
   ]
  },
  {
   "cell_type": "code",
   "execution_count": null,
   "metadata": {},
   "outputs": [],
   "source": [
    "import requests\n",
    "import json\n",
    "from bs4 import BeautifulSoup\n",
    "\n",
    "url = \"https://api.howtobullshit.me/bullshit\"\n",
    "topic = \"資芽\"\n",
    "length = 100\n",
    "\n",
    "post_params = {'Topic': topic, 'MinLen': length}\n",
    "post = json.dumps(post_params)\n",
    "response = requests.post(url, data = post)\n",
    "\n",
    "soup = BeautifulSoup(response.text, \"html.parser\")\n",
    "print(str(soup))"
   ]
  },
  {
   "cell_type": "markdown",
   "metadata": {},
   "source": [
    "### yt-dlp "
   ]
  },
  {
   "cell_type": "code",
   "execution_count": null,
   "metadata": {},
   "outputs": [],
   "source": [
    "import os\n",
    "\n",
    "url = \"https://www.youtube.com/watch?v=dQw4w9WgXcQ\"\n",
    "os.system(f\"yt-dlp --extract-audio --audio-format mp3 --audio-quality 0 {url}\")"
   ]
  },
  {
   "cell_type": "markdown",
   "metadata": {},
   "source": [
    "##### Practice Answer "
   ]
  },
  {
   "cell_type": "code",
   "execution_count": null,
   "metadata": {},
   "outputs": [],
   "source": [
    "import datetime\n",
    "from datetime import timezone, timedelta\n",
    "\n",
    "current_time = timezone(timedelta(hours = 8)) \n",
    "print(datetime.datetime.now(current_time).strftime(\"%H%M\"))"
   ]
  }
 ],
 "metadata": {
  "kernelspec": {
   "display_name": "Python 3",
   "language": "python",
   "name": "python3"
  },
  "language_info": {
   "codemirror_mode": {
    "name": "ipython",
    "version": 3
   },
   "file_extension": ".py",
   "mimetype": "text/x-python",
   "name": "python",
   "nbconvert_exporter": "python",
   "pygments_lexer": "ipython3",
   "version": "3.7.3"
  }
 },
 "nbformat": 4,
 "nbformat_minor": 2
}
