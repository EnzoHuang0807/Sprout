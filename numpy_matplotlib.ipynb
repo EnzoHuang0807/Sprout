{
 "cells": [
  {
   "cell_type": "markdown",
   "metadata": {},
   "source": [
    "### Numpy"
   ]
  },
  {
   "cell_type": "code",
   "execution_count": 25,
   "metadata": {},
   "outputs": [
    {
     "name": "stdout",
     "output_type": "stream",
     "text": [
      "[1 2 3 4 5]\n"
     ]
    }
   ],
   "source": [
    "import numpy\n",
    "arr = numpy.array([1,2,3,4,5])\n",
    "print(arr)"
   ]
  },
  {
   "cell_type": "code",
   "execution_count": 26,
   "metadata": {},
   "outputs": [
    {
     "name": "stdout",
     "output_type": "stream",
     "text": [
      "[1 2 3 4 5]\n",
      "<class 'numpy.ndarray'>\n",
      "3\n",
      "[1 2]\n"
     ]
    }
   ],
   "source": [
    "arr = numpy.array([1,2,3,4,5]) # 創造一個array\n",
    "print(arr)\n",
    "print(type(arr))\n",
    "print(arr[2])  # 取值方式一樣\n",
    "print(arr[0:2])  # 也可以Slice"
   ]
  },
  {
   "cell_type": "code",
   "execution_count": 27,
   "metadata": {},
   "outputs": [],
   "source": [
    "import numpy as np\n",
    "arr = np.array([1,2,3,4,5])"
   ]
  },
  {
   "cell_type": "code",
   "execution_count": 28,
   "metadata": {},
   "outputs": [
    {
     "name": "stdout",
     "output_type": "stream",
     "text": [
      "[ 2  5  8 11 14]\n",
      "[0. 0. 0. 0.]\n",
      "[1. 1. 1. 1. 1.]\n",
      "[ 0.   2.5  5.   7.5 10. ]\n"
     ]
    }
   ],
   "source": [
    "arr = np.arange(2,16,3)\n",
    "print(arr)\n",
    "# 和range很像\n",
    "arr = np.zeros(4) \n",
    "print(arr)\n",
    "arr = np.ones(5)\n",
    "print(arr)\n",
    "arr = np.linspace(0, 10, num=5)\n",
    "print(arr)"
   ]
  },
  {
   "cell_type": "code",
   "execution_count": 46,
   "metadata": {},
   "outputs": [
    {
     "name": "stdout",
     "output_type": "stream",
     "text": [
      "[2.0e-323 1.5e-323]\n",
      "[0.75691221 0.35758985 0.52620337 0.26208589 0.493721  ]\n",
      "[[0 1 1]\n",
      " [1 0 1]\n",
      " [1 1 1]\n",
      " [1 0 0]]\n"
     ]
    }
   ],
   "source": [
    "arr = np.empty(2)  #  [酷東西, 酷東西]\n",
    "print(arr)\n",
    "arr = np.random.rand(5)  # 長度為5 範圍為0~1\n",
    "print(arr)\n",
    "arr = np.random.randint(0,2,(4,3))  # 尺寸4*3 範圍為[0,2)\n",
    "print(arr)"
   ]
  },
  {
   "cell_type": "code",
   "execution_count": 30,
   "metadata": {},
   "outputs": [
    {
     "name": "stdout",
     "output_type": "stream",
     "text": [
      "1\n",
      "[1 2 3]\n",
      "[[1 2 3]\n",
      " [4 5 6]\n",
      " [7 8 9]]\n"
     ]
    }
   ],
   "source": [
    "arr_0 = np.array(1)  # 這是0維的\n",
    "print(arr_0)\n",
    "arr_1 = np.array([1,2,3])\n",
    "print(arr_1)\n",
    "arr_2 = np.array([[1,2,3],[4,5,6],[7,8,9]]) # 這是2維的\n",
    "print(arr_2)"
   ]
  },
  {
   "cell_type": "code",
   "execution_count": 31,
   "metadata": {},
   "outputs": [
    {
     "name": "stdout",
     "output_type": "stream",
     "text": [
      "2\n"
     ]
    }
   ],
   "source": [
    "arr_2 = np.array([[1,2,3],[4,5,6],[7,8,9]])\n",
    "print(arr_2.ndim)  # 二維array/Rank = 2的array"
   ]
  },
  {
   "cell_type": "code",
   "execution_count": 32,
   "metadata": {},
   "outputs": [
    {
     "name": "stdout",
     "output_type": "stream",
     "text": [
      "3\n",
      "[[1 2 3]\n",
      " [4 5 6]\n",
      " [7 8 9]]\n",
      "[[1 2 3]\n",
      " [4 5 6]\n",
      " [7 8 9]]\n"
     ]
    }
   ],
   "source": [
    "arr_2 = np.array([[1,2,3],[4,5,6],[7,8,9]])\n",
    "arr_3 = arr_2[np.newaxis, :]  # 多一個維度\n",
    "print(arr_3.ndim)\n",
    "print(arr_3[0])\n",
    "print(arr_2)"
   ]
  },
  {
   "cell_type": "code",
   "execution_count": 66,
   "metadata": {},
   "outputs": [
    {
     "name": "stdout",
     "output_type": "stream",
     "text": [
      "(1, 3, 3)\n"
     ]
    }
   ],
   "source": [
    "arr_2 = np.array([[1,2,3],[4,5,6],[7,8,9]])\n",
    "arr_3 = arr_2[np.newaxis, : ]  # 多一個維度\n",
    "print(arr_3.shape)  # (1, 3, 3)"
   ]
  },
  {
   "cell_type": "code",
   "execution_count": 48,
   "metadata": {},
   "outputs": [
    {
     "name": "stdout",
     "output_type": "stream",
     "text": [
      "[4.9e-324 9.9e-324 1.5e-323 2.0e-323 2.5e-323]\n",
      "[1 2 3 4 5]\n"
     ]
    }
   ],
   "source": [
    "arr = np.array([1, 2, 3, 4, 5])\n",
    "x = arr.view(float)  # 用解讀float的方式解讀int的資料\n",
    "print(x)\n",
    "# float/int都一樣佔4 Byte 但float有部分是紀錄小數點後的數值\n",
    "print(arr)"
   ]
  },
  {
   "cell_type": "code",
   "execution_count": 36,
   "metadata": {},
   "outputs": [
    {
     "name": "stdout",
     "output_type": "stream",
     "text": [
      "float64\n",
      "int64\n"
     ]
    }
   ],
   "source": [
    "arr = np.array([1,2.5,3,4,5])\n",
    "arr_2 = np.array([1,2,3,4,5])\n",
    "print(arr.dtype) # float64\n",
    "print(arr_2.dtype) # int64"
   ]
  },
  {
   "cell_type": "code",
   "execution_count": 37,
   "metadata": {},
   "outputs": [
    {
     "name": "stdout",
     "output_type": "stream",
     "text": [
      "[999   2   3   4   5]\n",
      "[1 2 3 4 5]\n"
     ]
    }
   ],
   "source": [
    "arr = np.array([1, 2, 3, 4, 5])\n",
    "x = arr.view()\n",
    "y = arr.copy()\n",
    "arr[0] = 999\n",
    "print(x)\n",
    "print(y)  # 不會被改到999"
   ]
  },
  {
   "cell_type": "code",
   "execution_count": 38,
   "metadata": {},
   "outputs": [
    {
     "name": "stdout",
     "output_type": "stream",
     "text": [
      "[[0 1 2]\n",
      " [3 4 5]]\n"
     ]
    }
   ],
   "source": [
    "x = np.arange(6)  # 0,1,2,3,4,5\n",
    "y = x.reshape(2,3)\n",
    "print(y)  # 輸出尺寸為2*3的矩陣"
   ]
  },
  {
   "cell_type": "code",
   "execution_count": 39,
   "metadata": {},
   "outputs": [
    {
     "name": "stdout",
     "output_type": "stream",
     "text": [
      "[[[[[[0 1 2 3 4 5]]]]]]\n"
     ]
    }
   ],
   "source": [
    "x = np.arange(6)  # 0,1,2,3,4,5\n",
    "w = x.reshape(1,1,1,1,1,6)  # 維度控制大師(X)\n",
    "print(w)"
   ]
  },
  {
   "cell_type": "code",
   "execution_count": 40,
   "metadata": {},
   "outputs": [
    {
     "name": "stdout",
     "output_type": "stream",
     "text": [
      "(2, 103, 6)\n"
     ]
    }
   ],
   "source": [
    "arr_2 = np.arange(1236)  # 有1236個元素\n",
    "z = arr_2.view()\n",
    "z.shape = (2,103,-1)  # 不知道某個維度方向長度時 可以用-1來代替 np會幫忙算好\n",
    "print(z.shape)  # (2,103,6)\n"
   ]
  },
  {
   "cell_type": "code",
   "execution_count": 41,
   "metadata": {},
   "outputs": [
    {
     "name": "stdout",
     "output_type": "stream",
     "text": [
      "[[1 2 3]\n",
      " [4 5 6]]\n"
     ]
    }
   ],
   "source": [
    "arr = np.array([1,2,3,4,5,6])\n",
    "x = arr.view()\n",
    "x.shape = (2,3)  # 換尺寸\n",
    "print(x)"
   ]
  },
  {
   "cell_type": "code",
   "execution_count": 42,
   "metadata": {},
   "outputs": [
    {
     "name": "stdout",
     "output_type": "stream",
     "text": [
      "5\n",
      "2380\n",
      "150255\n",
      "691.0665066885146\n",
      "1192.5\n"
     ]
    }
   ],
   "source": [
    "a = np.arange(5,2391,19).reshape(2,3,7,3)  # 有126個元素\n",
    "print(a.min())  # 所有元素最小值\n",
    "print(a.max())  # 所有元素最大值\n",
    "print(a.sum())  # 所有元素之和\n",
    "print(np.std(a))  # 標準差\n",
    "print(np.mean(a))  # 平均"
   ]
  },
  {
   "cell_type": "markdown",
   "metadata": {},
   "source": [
    "### Matplotlib"
   ]
  },
  {
   "cell_type": "code",
   "execution_count": 51,
   "metadata": {},
   "outputs": [
    {
     "data": {
      "image/png": "[encoded data removed]",
      "text/plain": [
       "<Figure size 432x288 with 1 Axes>"
      ]
     },
     "metadata": {
      "needs_background": "light"
     },
     "output_type": "display_data"
    }
   ],
   "source": [
    "import matplotlib.pyplot as plt\n",
    "\n",
    "x = [10,20,30,40] \n",
    "y = [20,10,25,50]\n",
    "\n",
    "plt.plot(x, y,\"rs-\")  # 將資料丟給plt\n",
    "# r 紅色, s square, - 直線\n",
    "plt.title(\"Example\")  # 設定標題等\n",
    "plt.ylabel(\"y-axis\")\n",
    "plt.xlabel(\"x-axis\")\n",
    "\n",
    "plt.show()\n"
   ]
  },
  {
   "cell_type": "code",
   "execution_count": 70,
   "metadata": {},
   "outputs": [
    {
     "data": {
      "image/png": "[encoded data removed]",
      "text/plain": [
       "<Figure size 432x288 with 1 Axes>"
      ]
     },
     "metadata": {
      "needs_background": "light"
     },
     "output_type": "display_data"
    }
   ],
   "source": [
    "x = [0,10,10,0,0]\n",
    "y = [0,0,10,10,0]\n",
    "plt.plot(x, y,\"bd:\")  # 將資料畫出來\n",
    "plt.title(\"Blue square\")  # 設定標題等\n",
    "plt.show()  # 將圖表顯示出來"
   ]
  },
  {
   "cell_type": "code",
   "execution_count": 53,
   "metadata": {},
   "outputs": [
    {
     "data": {
      "image/png": "[encoded data removed]",
      "text/plain": [
       "<Figure size 432x288 with 1 Axes>"
      ]
     },
     "metadata": {
      "needs_background": "light"
     },
     "output_type": "display_data"
    }
   ],
   "source": [
    "plt.plot([0,1,2,3,4],[0,1,8,27,64]) \n",
    "plt.axis([0, 5, 0, 70]) #[x始 x終 y始 y終]\n",
    "plt.show()"
   ]
  },
  {
   "cell_type": "code",
   "execution_count": 54,
   "metadata": {},
   "outputs": [
    {
     "data": {
      "image/png": "[encoded data removed]",
      "text/plain": [
       "<Figure size 432x288 with 1 Axes>"
      ]
     },
     "metadata": {
      "needs_background": "light"
     },
     "output_type": "display_data"
    }
   ],
   "source": [
    "x = np.linspace(0,5,21)# [0,5]之中取21個點\n",
    "plt.plot(x,x**2) # x軸為0~5的數字 y軸為0~5的數字平方後的結果\n",
    "plt.show() #生出0~5之間 y = x^2的圖"
   ]
  },
  {
   "cell_type": "code",
   "execution_count": 56,
   "metadata": {},
   "outputs": [
    {
     "data": {
      "image/png": "[encoded data removed]",
      "text/plain": [
       "<Figure size 432x288 with 1 Axes>"
      ]
     },
     "metadata": {
      "needs_background": "light"
     },
     "output_type": "display_data"
    }
   ],
   "source": [
    "plt.hist([2,2,6,8])\n",
    "plt.show()"
   ]
  },
  {
   "cell_type": "code",
   "execution_count": 58,
   "metadata": {},
   "outputs": [
    {
     "data": {
      "image/png": "[encoded data removed]",
      "text/plain": [
       "<Figure size 432x288 with 1 Axes>"
      ]
     },
     "metadata": {
      "needs_background": "light"
     },
     "output_type": "display_data"
    }
   ],
   "source": [
    "import numpy as np\n",
    "\n",
    "x = np.random.normal(0,1,1000) # 平均為0 標準差為1的常態分佈試驗1000筆\n",
    "plt.hist(x)\n",
    "plt.show()"
   ]
  },
  {
   "cell_type": "code",
   "execution_count": 60,
   "metadata": {},
   "outputs": [
    {
     "data": {
      "image/png": "[encoded data removed]",
      "text/plain": [
       "<Figure size 432x288 with 1 Axes>"
      ]
     },
     "metadata": {
      "needs_background": "light"
     },
     "output_type": "display_data"
    }
   ],
   "source": [
    "#點座標分別為(5,10) (2,5) (9,8) (4,4) (7,2)\n",
    "plt.scatter([5, 2, 9, 4, 7], [10, 5, 8, 4, 2])\n",
    "plt.show()"
   ]
  },
  {
   "cell_type": "code",
   "execution_count": 59,
   "metadata": {},
   "outputs": [
    {
     "data": {
      "image/png": "[encoded data removed]",
      "text/plain": [
       "<Figure size 432x288 with 1 Axes>"
      ]
     },
     "metadata": {
      "needs_background": "light"
     },
     "output_type": "display_data"
    }
   ],
   "source": [
    "plt.bar([5, 2, 9, 4, 7], [10, 5, 8, 4, 2])\n",
    "plt.show()"
   ]
  }
 ],
 "metadata": {
  "interpreter": {
   "hash": "93ed84effe6eb34795aefde9074530f9e43ae923f92301584d212147254523da"
  },
  "kernelspec": {
   "display_name": "Python 3.9.7 ('base')",
   "language": "python",
   "name": "python3"
  },
  "language_info": {
   "codemirror_mode": {
    "name": "ipython",
    "version": 3
   },
   "file_extension": ".py",
   "mimetype": "text/x-python",
   "name": "python",
   "nbconvert_exporter": "python",
   "pygments_lexer": "ipython3",
   "version": "3.9.7"
  },
  "orig_nbformat": 4
 },
 "nbformat": 4,
 "nbformat_minor": 2
}
